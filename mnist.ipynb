{
  "nbformat": 4,
  "nbformat_minor": 0,
  "metadata": {
    "colab": {
      "name": "mnist.ipynb",
      "provenance": [],
      "collapsed_sections": [],
      "mount_file_id": "1yoBA5vE5FfoVmmkcGUdU221JLweW1USA",
      "authorship_tag": "ABX9TyPAtW1OT9f18eH+mntZLlTW",
      "include_colab_link": true
    },
    "kernelspec": {
      "name": "python3",
      "display_name": "Python 3"
    }
  },
  "cells": [
    {
      "cell_type": "markdown",
      "metadata": {
        "id": "view-in-github",
        "colab_type": "text"
      },
      "source": [
        "<a href=\"https://colab.research.google.com/github/arafath-1234/aieng/blob/master/mnist.ipynb\" target=\"_parent\"><img src=\"https://colab.research.google.com/assets/colab-badge.svg\" alt=\"Open In Colab\"/></a>"
      ]
    },
    {
      "cell_type": "code",
      "metadata": {
        "id": "V89efKKnlbA6",
        "colab_type": "code",
        "colab": {}
      },
      "source": [
        "from keras.datasets import mnist\n",
        "from keras.layers import Dense,Flatten\n",
        "from keras.models import Sequential\n",
        "from sklearn.model_selection import train_test_split\n",
        "from keras.layers import Dropout,BatchNormalization\n",
        "from keras.layers import MaxPooling2D\n",
        "from keras.initializers import RandomNormal\n",
        "import numpy as np\n",
        "from keras.models import load_model\n",
        "import cv2 as cv"
      ],
      "execution_count": 1,
      "outputs": []
    },
    {
      "cell_type": "code",
      "metadata": {
        "id": "7ENBGKUvltWT",
        "colab_type": "code",
        "colab": {}
      },
      "source": [
        "(train_x,train_y),(test_x,test_y)=mnist.load_data()"
      ],
      "execution_count": 3,
      "outputs": []
    },
    {
      "cell_type": "code",
      "metadata": {
        "id": "U8tUGEq7l5sO",
        "colab_type": "code",
        "colab": {}
      },
      "source": [
        "model=Sequential()"
      ],
      "execution_count": 4,
      "outputs": []
    },
    {
      "cell_type": "code",
      "metadata": {
        "id": "HujwiHjml-hP",
        "colab_type": "code",
        "colab": {}
      },
      "source": [
        "model.add(Dense(784,activation='relu',kernel_initializer=RandomNormal(stddev=np.sqrt(1/(28*28))),input_shape=(28,28)))\n",
        "model.add(Dense(392,activation='relu',kernel_initializer=RandomNormal(stddev=np.sqrt(2/(3*3*32)))))\n",
        "model.add(Dense(196,activation='relu'))\n",
        "model.add(Dense(94,activation='relu'))\n",
        "model.add(Flatten())\n",
        "model.add(Dense(48 , activation = 'relu'))\n",
        "model.add(Dense(10,activation='softmax'))"
      ],
      "execution_count": 5,
      "outputs": []
    },
    {
      "cell_type": "code",
      "metadata": {
        "id": "eQx5S52lmDi5",
        "colab_type": "code",
        "colab": {}
      },
      "source": [
        "model.compile(optimizer='adam',loss='sparse_categorical_crossentropy',metrics='accuracy')"
      ],
      "execution_count": 6,
      "outputs": []
    },
    {
      "cell_type": "code",
      "metadata": {
        "id": "eaeO1DtamHXP",
        "colab_type": "code",
        "colab": {
          "base_uri": "https://localhost:8080/",
          "height": 689
        },
        "outputId": "32d5cc35-474c-48ab-d29a-33534be8d1fb"
      },
      "source": [
        "history=model.fit(train_x,train_y,epochs=20,batch_size=64)"
      ],
      "execution_count": 7,
      "outputs": [
        {
          "output_type": "stream",
          "text": [
            "Epoch 1/20\n",
            "938/938 [==============================] - 85s 91ms/step - loss: 0.4264 - accuracy: 0.9012\n",
            "Epoch 2/20\n",
            "938/938 [==============================] - 85s 91ms/step - loss: 0.1436 - accuracy: 0.9571\n",
            "Epoch 3/20\n",
            "938/938 [==============================] - 85s 91ms/step - loss: 0.1132 - accuracy: 0.9657\n",
            "Epoch 4/20\n",
            "938/938 [==============================] - 85s 91ms/step - loss: 0.0995 - accuracy: 0.9701\n",
            "Epoch 5/20\n",
            "938/938 [==============================] - 85s 90ms/step - loss: 0.0872 - accuracy: 0.9736\n",
            "Epoch 6/20\n",
            "938/938 [==============================] - 85s 91ms/step - loss: 0.0804 - accuracy: 0.9752\n",
            "Epoch 7/20\n",
            "938/938 [==============================] - 85s 91ms/step - loss: 0.0713 - accuracy: 0.9778\n",
            "Epoch 8/20\n",
            "938/938 [==============================] - 85s 91ms/step - loss: 0.0663 - accuracy: 0.9786\n",
            "Epoch 9/20\n",
            "938/938 [==============================] - 85s 90ms/step - loss: 0.0597 - accuracy: 0.9804\n",
            "Epoch 10/20\n",
            "938/938 [==============================] - 85s 91ms/step - loss: 0.0560 - accuracy: 0.9820\n",
            "Epoch 11/20\n",
            "938/938 [==============================] - 85s 91ms/step - loss: 0.0504 - accuracy: 0.9839\n",
            "Epoch 12/20\n",
            "938/938 [==============================] - 85s 91ms/step - loss: 0.0444 - accuracy: 0.9858\n",
            "Epoch 13/20\n",
            "938/938 [==============================] - 86s 91ms/step - loss: 0.0405 - accuracy: 0.9873\n",
            "Epoch 14/20\n",
            "938/938 [==============================] - 86s 92ms/step - loss: 0.0380 - accuracy: 0.9880\n",
            "Epoch 15/20\n",
            "938/938 [==============================] - 85s 91ms/step - loss: 0.0372 - accuracy: 0.9882\n",
            "Epoch 16/20\n",
            "938/938 [==============================] - 86s 92ms/step - loss: 0.0355 - accuracy: 0.9885\n",
            "Epoch 17/20\n",
            "938/938 [==============================] - 86s 92ms/step - loss: 0.0302 - accuracy: 0.9901\n",
            "Epoch 18/20\n",
            "938/938 [==============================] - 86s 91ms/step - loss: 0.0303 - accuracy: 0.9902\n",
            "Epoch 19/20\n",
            "938/938 [==============================] - 86s 91ms/step - loss: 0.0302 - accuracy: 0.9905\n",
            "Epoch 20/20\n",
            "938/938 [==============================] - 86s 91ms/step - loss: 0.0258 - accuracy: 0.9919\n"
          ],
          "name": "stdout"
        }
      ]
    },
    {
      "cell_type": "code",
      "metadata": {
        "id": "mmjnWLX9fUt9",
        "colab_type": "code",
        "colab": {}
      },
      "source": [
        "model.save('mnist1.h5')"
      ],
      "execution_count": 13,
      "outputs": []
    },
    {
      "cell_type": "code",
      "metadata": {
        "id": "k12XqZn-roww",
        "colab_type": "code",
        "colab": {}
      },
      "source": [
        "y_pred=model.predict_classes(test_x)"
      ],
      "execution_count": 14,
      "outputs": []
    },
    {
      "cell_type": "code",
      "metadata": {
        "id": "ykd227Gfr1B3",
        "colab_type": "code",
        "colab": {
          "base_uri": "https://localhost:8080/",
          "height": 34
        },
        "outputId": "73188782-12ff-412f-f9fd-0452b514c2f8"
      },
      "source": [
        "from sklearn.metrics import confusion_matrix,accuracy_score\n",
        "accuracy_score(y_pred,test_y)"
      ],
      "execution_count": 9,
      "outputs": [
        {
          "output_type": "execute_result",
          "data": {
            "text/plain": [
              "0.9689"
            ]
          },
          "metadata": {
            "tags": []
          },
          "execution_count": 9
        }
      ]
    },
    {
      "cell_type": "code",
      "metadata": {
        "id": "N8F1Ekn4sLCl",
        "colab_type": "code",
        "colab": {
          "base_uri": "https://localhost:8080/",
          "height": 185
        },
        "outputId": "e3684b3c-9de1-4632-cbbe-2ac45405e429"
      },
      "source": [
        "confusion_matrix(y_pred,test_y)"
      ],
      "execution_count": null,
      "outputs": [
        {
          "output_type": "execute_result",
          "data": {
            "text/plain": [
              "array([[ 964,    3,    4,    0,    1,    2,    5,    0,    7,    0],\n",
              "       [   0, 1119,    1,    0,    2,    0,    4,    0,    0,    1],\n",
              "       [   3,    3, 1002,    7,    2,    0,    0,    5,    3,    1],\n",
              "       [   1,    3,    7,  975,    2,   16,    1,    4,    9,   14],\n",
              "       [   0,    0,    4,    0,  947,    0,    1,    2,    0,    8],\n",
              "       [   0,    0,    0,   13,    0,  857,    8,    0,    5,    2],\n",
              "       [   3,    2,    4,    0,    6,    8,  933,    0,    4,    1],\n",
              "       [   4,    2,    5,   10,    3,    2,    0, 1007,    4,    7],\n",
              "       [   4,    3,    5,    4,    2,    2,    6,    2,  938,    4],\n",
              "       [   1,    0,    0,    1,   17,    5,    0,    8,    4,  971]])"
            ]
          },
          "metadata": {
            "tags": []
          },
          "execution_count": 10
        }
      ]
    }
  ]
}